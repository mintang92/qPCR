{
 "cells": [
  {
   "cell_type": "code",
   "execution_count": 2,
   "metadata": {
    "ExecuteTime": {
     "end_time": "2020-06-10T14:27:30.149644Z",
     "start_time": "2020-06-10T14:27:29.791503Z"
    }
   },
   "outputs": [],
   "source": [
    "import pandas as pd\n",
    "import numpy as np"
   ]
  },
  {
   "cell_type": "code",
   "execution_count": 3,
   "metadata": {
    "ExecuteTime": {
     "end_time": "2020-06-10T14:27:34.004616Z",
     "start_time": "2020-06-10T14:27:33.662549Z"
    }
   },
   "outputs": [
    {
     "data": {
      "text/html": [
       "<div>\n",
       "<style scoped>\n",
       "    .dataframe tbody tr th:only-of-type {\n",
       "        vertical-align: middle;\n",
       "    }\n",
       "\n",
       "    .dataframe tbody tr th {\n",
       "        vertical-align: top;\n",
       "    }\n",
       "\n",
       "    .dataframe thead th {\n",
       "        text-align: right;\n",
       "    }\n",
       "</style>\n",
       "<table border=\"1\" class=\"dataframe\">\n",
       "  <thead>\n",
       "    <tr style=\"text-align: right;\">\n",
       "      <th></th>\n",
       "      <th>Sample_Name</th>\n",
       "      <th>Target_Gene</th>\n",
       "      <th>Ct_Mean</th>\n",
       "    </tr>\n",
       "  </thead>\n",
       "  <tbody>\n",
       "    <tr>\n",
       "      <th>0</th>\n",
       "      <td>TS576 2D</td>\n",
       "      <td>GAPDH</td>\n",
       "      <td>22.843178</td>\n",
       "    </tr>\n",
       "    <tr>\n",
       "      <th>1</th>\n",
       "      <td>TS576 2D</td>\n",
       "      <td>GAPDH</td>\n",
       "      <td>22.843178</td>\n",
       "    </tr>\n",
       "    <tr>\n",
       "      <th>2</th>\n",
       "      <td>TS576 2D</td>\n",
       "      <td>GAPDH</td>\n",
       "      <td>22.843178</td>\n",
       "    </tr>\n",
       "    <tr>\n",
       "      <th>3</th>\n",
       "      <td>TS576 2D</td>\n",
       "      <td>ABCG</td>\n",
       "      <td>34.719913</td>\n",
       "    </tr>\n",
       "    <tr>\n",
       "      <th>4</th>\n",
       "      <td>TS576 2D</td>\n",
       "      <td>ABCG</td>\n",
       "      <td>34.719913</td>\n",
       "    </tr>\n",
       "  </tbody>\n",
       "</table>\n",
       "</div>"
      ],
      "text/plain": [
       "  Sample_Name Target_Gene    Ct_Mean\n",
       "0    TS576 2D       GAPDH  22.843178\n",
       "1    TS576 2D       GAPDH  22.843178\n",
       "2    TS576 2D       GAPDH  22.843178\n",
       "3    TS576 2D        ABCG  34.719913\n",
       "4    TS576 2D        ABCG  34.719913"
      ]
     },
     "execution_count": 3,
     "metadata": {},
     "output_type": "execute_result"
    }
   ],
   "source": [
    "# Step 1: read the original data\n",
    "qPCR_path = '/home/penguin/Documents/qPCR/Data/2019-07-13_TS576 Plate1.xls' \n",
    "qPCR_results = pd.read_excel(\n",
    "    qPCR_path,\n",
    "    sheet_name='Results',\n",
    "    skiprows=43,\n",
    "    usecols=[3,4,15], # Fix later: should use individual Ct values in column 14;\n",
    "    #column 14 contains word 'undetermined' instead of values in some cells,\n",
    "    #which causes trouble in Step 2\n",
    "    #column 15 contains mean values calcualted by QuantStudio based on column 14\n",
    "    skipfooter=5,\n",
    "    names=['Sample_Name','Target_Gene','Ct_Mean'])\n",
    "qPCR_results.head()"
   ]
  },
  {
   "cell_type": "code",
   "execution_count": 4,
   "metadata": {
    "ExecuteTime": {
     "end_time": "2020-06-10T14:27:38.646935Z",
     "start_time": "2020-06-10T14:27:38.638148Z"
    }
   },
   "outputs": [
    {
     "data": {
      "text/plain": [
       "Stiff single       18\n",
       "Soft coculture     18\n",
       "Soft single        18\n",
       "Stiff coculture    18\n",
       "TS576 2D           18\n",
       "Water               6\n",
       "Name: Sample_Name, dtype: int64"
      ]
     },
     "execution_count": 4,
     "metadata": {},
     "output_type": "execute_result"
    }
   ],
   "source": [
    "qPCR_results['Sample_Name'].value_counts() #Check samples"
   ]
  },
  {
   "cell_type": "code",
   "execution_count": 5,
   "metadata": {
    "ExecuteTime": {
     "end_time": "2020-06-10T14:27:42.735604Z",
     "start_time": "2020-06-10T14:27:42.728564Z"
    }
   },
   "outputs": [
    {
     "data": {
      "text/plain": [
       "SPP1     16\n",
       "GAPDH    16\n",
       "ABCG     16\n",
       "CCNA2    16\n",
       "ABCB1    16\n",
       "MGMT     16\n",
       "Name: Target_Gene, dtype: int64"
      ]
     },
     "execution_count": 5,
     "metadata": {},
     "output_type": "execute_result"
    }
   ],
   "source": [
    "qPCR_results['Target_Gene'].value_counts() #Check genes"
   ]
  },
  {
   "cell_type": "code",
   "execution_count": 6,
   "metadata": {
    "ExecuteTime": {
     "end_time": "2020-06-10T14:27:47.492504Z",
     "start_time": "2020-06-10T14:27:47.425313Z"
    }
   },
   "outputs": [
    {
     "data": {
      "text/html": [
       "<div>\n",
       "<style scoped>\n",
       "    .dataframe tbody tr th:only-of-type {\n",
       "        vertical-align: middle;\n",
       "    }\n",
       "\n",
       "    .dataframe tbody tr th {\n",
       "        vertical-align: top;\n",
       "    }\n",
       "\n",
       "    .dataframe thead tr th {\n",
       "        text-align: left;\n",
       "    }\n",
       "\n",
       "    .dataframe thead tr:last-of-type th {\n",
       "        text-align: right;\n",
       "    }\n",
       "</style>\n",
       "<table border=\"1\" class=\"dataframe\">\n",
       "  <thead>\n",
       "    <tr>\n",
       "      <th></th>\n",
       "      <th colspan=\"6\" halign=\"left\">Ct_Mean</th>\n",
       "    </tr>\n",
       "    <tr>\n",
       "      <th>Target_Gene</th>\n",
       "      <th>ABCB1</th>\n",
       "      <th>ABCG</th>\n",
       "      <th>CCNA2</th>\n",
       "      <th>GAPDH</th>\n",
       "      <th>MGMT</th>\n",
       "      <th>SPP1</th>\n",
       "    </tr>\n",
       "    <tr>\n",
       "      <th>Sample_Name</th>\n",
       "      <th></th>\n",
       "      <th></th>\n",
       "      <th></th>\n",
       "      <th></th>\n",
       "      <th></th>\n",
       "      <th></th>\n",
       "    </tr>\n",
       "  </thead>\n",
       "  <tbody>\n",
       "    <tr>\n",
       "      <th>Soft coculture</th>\n",
       "      <td>32.344807</td>\n",
       "      <td>32.096264</td>\n",
       "      <td>25.180128</td>\n",
       "      <td>20.757990</td>\n",
       "      <td>29.303553</td>\n",
       "      <td>27.009600</td>\n",
       "    </tr>\n",
       "    <tr>\n",
       "      <th>Soft single</th>\n",
       "      <td>NaN</td>\n",
       "      <td>33.936035</td>\n",
       "      <td>24.690702</td>\n",
       "      <td>20.803167</td>\n",
       "      <td>30.027712</td>\n",
       "      <td>26.966507</td>\n",
       "    </tr>\n",
       "    <tr>\n",
       "      <th>Stiff coculture</th>\n",
       "      <td>32.807613</td>\n",
       "      <td>30.500839</td>\n",
       "      <td>25.164297</td>\n",
       "      <td>21.641981</td>\n",
       "      <td>29.772627</td>\n",
       "      <td>26.985018</td>\n",
       "    </tr>\n",
       "    <tr>\n",
       "      <th>Stiff single</th>\n",
       "      <td>NaN</td>\n",
       "      <td>33.201859</td>\n",
       "      <td>25.165436</td>\n",
       "      <td>21.615515</td>\n",
       "      <td>30.134100</td>\n",
       "      <td>27.120132</td>\n",
       "    </tr>\n",
       "    <tr>\n",
       "      <th>TS576 2D</th>\n",
       "      <td>NaN</td>\n",
       "      <td>34.719913</td>\n",
       "      <td>25.394928</td>\n",
       "      <td>22.843178</td>\n",
       "      <td>30.836946</td>\n",
       "      <td>29.446600</td>\n",
       "    </tr>\n",
       "    <tr>\n",
       "      <th>Water</th>\n",
       "      <td>NaN</td>\n",
       "      <td>NaN</td>\n",
       "      <td>NaN</td>\n",
       "      <td>NaN</td>\n",
       "      <td>NaN</td>\n",
       "      <td>NaN</td>\n",
       "    </tr>\n",
       "  </tbody>\n",
       "</table>\n",
       "</div>"
      ],
      "text/plain": [
       "                   Ct_Mean                                              \\\n",
       "Target_Gene          ABCB1       ABCG      CCNA2      GAPDH       MGMT   \n",
       "Sample_Name                                                              \n",
       "Soft coculture   32.344807  32.096264  25.180128  20.757990  29.303553   \n",
       "Soft single            NaN  33.936035  24.690702  20.803167  30.027712   \n",
       "Stiff coculture  32.807613  30.500839  25.164297  21.641981  29.772627   \n",
       "Stiff single           NaN  33.201859  25.165436  21.615515  30.134100   \n",
       "TS576 2D               NaN  34.719913  25.394928  22.843178  30.836946   \n",
       "Water                  NaN        NaN        NaN        NaN        NaN   \n",
       "\n",
       "                            \n",
       "Target_Gene           SPP1  \n",
       "Sample_Name                 \n",
       "Soft coculture   27.009600  \n",
       "Soft single      26.966507  \n",
       "Stiff coculture  26.985018  \n",
       "Stiff single     27.120132  \n",
       "TS576 2D         29.446600  \n",
       "Water                  NaN  "
      ]
     },
     "execution_count": 6,
     "metadata": {},
     "output_type": "execute_result"
    }
   ],
   "source": [
    "# Step 2: reorganize the data\n",
    "means = qPCR_results.groupby([\"Sample_Name\",\"Target_Gene\"]).mean()\n",
    "# is it possible generate 3 seperate tables?\n",
    "# each cell below represents the mean calculated from 3 values\n",
    "means.unstack()"
   ]
  },
  {
   "cell_type": "code",
   "execution_count": 28,
   "metadata": {
    "ExecuteTime": {
     "end_time": "2020-06-10T15:24:22.799567Z",
     "start_time": "2020-06-10T15:24:22.618288Z"
    }
   },
   "outputs": [
    {
     "data": {
      "text/html": [
       "<div>\n",
       "<style scoped>\n",
       "    .dataframe tbody tr th:only-of-type {\n",
       "        vertical-align: middle;\n",
       "    }\n",
       "\n",
       "    .dataframe tbody tr th {\n",
       "        vertical-align: top;\n",
       "    }\n",
       "\n",
       "    .dataframe thead th {\n",
       "        text-align: right;\n",
       "    }\n",
       "</style>\n",
       "<table border=\"1\" class=\"dataframe\">\n",
       "  <thead>\n",
       "    <tr style=\"text-align: right;\">\n",
       "      <th></th>\n",
       "      <th>Sample_Name</th>\n",
       "      <th>Target_Gene</th>\n",
       "      <th>Ct_Mean</th>\n",
       "    </tr>\n",
       "  </thead>\n",
       "  <tbody>\n",
       "    <tr>\n",
       "      <th>0</th>\n",
       "      <td>TS576 2D</td>\n",
       "      <td>GAPDH</td>\n",
       "      <td>22.693</td>\n",
       "    </tr>\n",
       "    <tr>\n",
       "      <th>1</th>\n",
       "      <td>TS576 2D</td>\n",
       "      <td>GAPDH</td>\n",
       "      <td>22.965</td>\n",
       "    </tr>\n",
       "    <tr>\n",
       "      <th>2</th>\n",
       "      <td>TS576 2D</td>\n",
       "      <td>GAPDH</td>\n",
       "      <td>22.8716</td>\n",
       "    </tr>\n",
       "    <tr>\n",
       "      <th>3</th>\n",
       "      <td>TS576 2D</td>\n",
       "      <td>ABCG</td>\n",
       "      <td>34.5603</td>\n",
       "    </tr>\n",
       "    <tr>\n",
       "      <th>4</th>\n",
       "      <td>TS576 2D</td>\n",
       "      <td>ABCG</td>\n",
       "      <td>34.6314</td>\n",
       "    </tr>\n",
       "  </tbody>\n",
       "</table>\n",
       "</div>"
      ],
      "text/plain": [
       "  Sample_Name Target_Gene  Ct_Mean\n",
       "0    TS576 2D       GAPDH   22.693\n",
       "1    TS576 2D       GAPDH   22.965\n",
       "2    TS576 2D       GAPDH  22.8716\n",
       "3    TS576 2D        ABCG  34.5603\n",
       "4    TS576 2D        ABCG  34.6314"
      ]
     },
     "execution_count": 28,
     "metadata": {},
     "output_type": "execute_result"
    }
   ],
   "source": [
    "## 2020.06.10\n",
    "\n",
    "qPCR_path = '/home/penguin/Documents/qPCR/Data/2019-07-13_TS576 Plate1.xls' \n",
    "qPCR_results = pd.read_excel(\n",
    "    qPCR_path,\n",
    "    sheet_name='Results',\n",
    "    skiprows=43,\n",
    "    usecols=[3,4,14],\n",
    "    skipfooter=5,\n",
    "    names=['Sample_Name','Target_Gene','Ct_Mean'])\n",
    "qPCR_results.head()"
   ]
  },
  {
   "cell_type": "code",
   "execution_count": 35,
   "metadata": {
    "ExecuteTime": {
     "end_time": "2020-06-10T15:29:33.838511Z",
     "start_time": "2020-06-10T15:29:33.834889Z"
    }
   },
   "outputs": [
    {
     "data": {
      "text/plain": [
       "'TS576 2D'"
      ]
     },
     "execution_count": 35,
     "metadata": {},
     "output_type": "execute_result"
    }
   ],
   "source": [
    "# Step 2: Replace spaces in names\n",
    "Example_name = qPCR_results['Sample_Name'][0]\n",
    "Example_name"
   ]
  },
  {
   "cell_type": "code",
   "execution_count": 42,
   "metadata": {
    "ExecuteTime": {
     "end_time": "2020-06-10T15:34:18.936964Z",
     "start_time": "2020-06-10T15:34:18.932049Z"
    }
   },
   "outputs": [
    {
     "data": {
      "text/plain": [
       "'TS576_2D'"
      ]
     },
     "execution_count": 42,
     "metadata": {},
     "output_type": "execute_result"
    }
   ],
   "source": [
    "def edit_names(sample):\n",
    "    for names in qPCR_results['Sample_Name']:\n",
    "        names = names.replace(\" \",\"_\")\n",
    "        break\n",
    "    return names\n",
    "edit_names(Example_name)"
   ]
  },
  {
   "cell_type": "code",
   "execution_count": 43,
   "metadata": {
    "ExecuteTime": {
     "end_time": "2020-06-10T15:34:31.019665Z",
     "start_time": "2020-06-10T15:34:31.014920Z"
    }
   },
   "outputs": [
    {
     "data": {
      "text/plain": [
       "0     TS576_2D\n",
       "1     TS576_2D\n",
       "2     TS576_2D\n",
       "3     TS576_2D\n",
       "4     TS576_2D\n",
       "        ...   \n",
       "91    TS576_2D\n",
       "92    TS576_2D\n",
       "93    TS576_2D\n",
       "94    TS576_2D\n",
       "95    TS576_2D\n",
       "Name: Sample_Name, Length: 96, dtype: object"
      ]
     },
     "execution_count": 43,
     "metadata": {},
     "output_type": "execute_result"
    }
   ],
   "source": [
    "Sample_names = qPCR_results['Sample_Name'].apply(edit_names)\n",
    "Sample_names #??????"
   ]
  }
 ],
 "metadata": {
  "kernelspec": {
   "display_name": "Python 3",
   "language": "python",
   "name": "python3"
  },
  "language_info": {
   "codemirror_mode": {
    "name": "ipython",
    "version": 3
   },
   "file_extension": ".py",
   "mimetype": "text/x-python",
   "name": "python",
   "nbconvert_exporter": "python",
   "pygments_lexer": "ipython3",
   "version": "3.7.6"
  },
  "toc": {
   "base_numbering": 1,
   "nav_menu": {},
   "number_sections": true,
   "sideBar": true,
   "skip_h1_title": false,
   "title_cell": "Table of Contents",
   "title_sidebar": "Contents",
   "toc_cell": false,
   "toc_position": {},
   "toc_section_display": true,
   "toc_window_display": false
  }
 },
 "nbformat": 4,
 "nbformat_minor": 4
}
